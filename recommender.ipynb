{
 "cells": [
  {
   "cell_type": "markdown",
   "metadata": {},
   "source": [
    "# Recommender"
   ]
  },
  {
   "cell_type": "code",
   "execution_count": 23,
   "metadata": {},
   "outputs": [],
   "source": [
    "# import libraries\n",
    "import pandas as pd\n",
    "import numpy as np\n",
    "import random\n",
    "import string\n",
    "\n",
    "import warnings\n",
    "warnings.filterwarnings(\"ignore\")\n",
    "\n",
    "pd.set_option(\"display.max_columns\", 0) #no limit to cols we want to see\n",
    "\n",
    "import pickle\n",
    "from IPython.display import Markdown\n",
    "\n",
    "# import datasets and pickles\n",
    "games = pd.read_pickle('./pickles/games_withclusters.pkl')"
   ]
  },
  {
   "cell_type": "markdown",
   "metadata": {},
   "source": [
    "***"
   ]
  },
  {
   "cell_type": "markdown",
   "metadata": {},
   "source": [
    "### Recommender with clusters"
   ]
  },
  {
   "cell_type": "code",
   "execution_count": 24,
   "metadata": {},
   "outputs": [],
   "source": [
    "def game_rec_by_clusters(user_game, df):\n",
    "    # point it to a cluster where that game belongs to\n",
    "    try:\n",
    "        target = df[df['name'] == user_game]['cluster_13'].iloc[0]\n",
    "        # show cluster with the rest of games\n",
    "        cluster = df[df['cluster_13'] == target]        \n",
    "        # get a random game from that cluster\n",
    "        random_idx = random.randint(0, len(cluster)-1)\n",
    "        print(f'''Here's something you could like bb:  \n",
    "                {cluster['name'].iloc[random_idx]},\n",
    "                a game about\n",
    "                {cluster['category'].iloc[random_idx].split(',')[0]} for up to \n",
    "                {int(cluster['max_players'].iloc[random_idx])} players''')\n",
    "    except IndexError:\n",
    "        print('sorry! we do not have that. Try again?')"
   ]
  },
  {
   "cell_type": "code",
   "execution_count": 28,
   "metadata": {},
   "outputs": [
    {
     "name": "stdout",
     "output_type": "stream",
     "text": [
      "Here's something you could like bb:  \n",
      "                Trivial Pursuit: DVD – The Lord Of The Rings Trilogy Edition,\n",
      "                a game about\n",
      "                Movies / TV / Radio theme for up to \n",
      "                4 players\n"
     ]
    }
   ],
   "source": [
    "game = input('What game do you like dAHling')\n",
    "capped = string.capwords(game, sep = None)\n",
    "game_rec_by_clusters(capped, games)"
   ]
  },
  {
   "cell_type": "markdown",
   "metadata": {},
   "source": [
    "***"
   ]
  },
  {
   "cell_type": "markdown",
   "metadata": {},
   "source": [
    "### Recommender with filters"
   ]
  },
  {
   "cell_type": "code",
   "execution_count": 16,
   "metadata": {},
   "outputs": [],
   "source": [
    "def game_rec_by_filters(gtype, players, time, df):\n",
    "    gt = df[(df.game_type.isin([gtype])) | (df.category.isin([gtype])) | (df.mechanic.isin([gtype]))]\n",
    "    # create boolean mask to check range\n",
    "    pl_mask = gt.apply(lambda row: row['min_players'] <= players <= row['max_players'], axis=1)\n",
    "    ti_mask = gt.apply(lambda row: row['min_time'] <= time <= row['max_time'], axis=1)\n",
    "    # apply boolean mask to filtered rows\n",
    "    pl = gt[pl_mask]\n",
    "    ti = pl[ti_mask]\n",
    "    # get a random game from that filter\n",
    "    if ti.empty:\n",
    "        print(\"So sorry bestie, we got nothing for you.\")\n",
    "    else:\n",
    "        random_idx = random.randint(0, len(ti)-1)\n",
    "        print(f'''Here's something you could like bb:  \n",
    "                {ti['name'].iloc[random_idx]},\n",
    "                a game about\n",
    "                {ti['category'].iloc[random_idx].split(',')[0]} for up to \n",
    "                {int(ti['max_players'].iloc[random_idx])} players''')"
   ]
  },
  {
   "cell_type": "code",
   "execution_count": 29,
   "metadata": {},
   "outputs": [
    {
     "name": "stdout",
     "output_type": "stream",
     "text": [
      "Here's something you could like bb:  \n",
      "                Ram Anything Painted Gray,\n",
      "                a game about\n",
      "                Educational for up to \n",
      "                4 players\n"
     ]
    }
   ],
   "source": [
    "gtype = input('What kind of game type are you looking for dAHling')\n",
    "capped = string.capwords(gtype, sep = None)\n",
    "players = int(input('How many people are playing?'))\n",
    "time = int(input('How long do you have to play? (in mins)'))\n",
    "\n",
    "game_rec_by_filters(capped, players, time, games)"
   ]
  },
  {
   "cell_type": "markdown",
   "metadata": {},
   "source": [
    "***"
   ]
  },
  {
   "cell_type": "markdown",
   "metadata": {},
   "source": [
    "### More to come! this is just the beginning!"
   ]
  },
  {
   "cell_type": "markdown",
   "metadata": {},
   "source": [
    "1. Individual user ratings for improved recommender\n",
    "2. Connect to stores APIs for availability and prices\n",
    "3. Online board games market\n"
   ]
  }
 ],
 "metadata": {
  "kernelspec": {
   "display_name": "base",
   "language": "python",
   "name": "python3"
  },
  "language_info": {
   "codemirror_mode": {
    "name": "ipython",
    "version": 3
   },
   "file_extension": ".py",
   "mimetype": "text/x-python",
   "name": "python",
   "nbconvert_exporter": "python",
   "pygments_lexer": "ipython3",
   "version": "3.10.9"
  },
  "orig_nbformat": 4
 },
 "nbformat": 4,
 "nbformat_minor": 2
}
